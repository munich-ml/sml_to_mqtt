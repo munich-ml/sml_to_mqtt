{
 "cells": [
  {
   "cell_type": "code",
   "execution_count": 10,
   "metadata": {},
   "outputs": [],
   "source": [
    "import json, os\n",
    "import pandas as pd"
   ]
  },
  {
   "cell_type": "code",
   "execution_count": 8,
   "metadata": {},
   "outputs": [],
   "source": [
    "all_offsets = set()\n",
    "for fn in os.listdir(\"raw\"):\n",
    "    fp = os.path.join(\"raw\", fn)\n",
    "    with open(fp, \"r\") as file:\n",
    "        data = json.load(file)\n",
    "        all_offsets = all_offsets.union(set(data[\"offsets\"]))"
   ]
  },
  {
   "cell_type": "code",
   "execution_count": 19,
   "metadata": {},
   "outputs": [],
   "source": [
    "cols = {0: \"datetime\"}\n",
    "for offset in all_offsets:\n",
    "    os_str = str(offset)\n",
    "    while len(os_str) < 3:\n",
    "        os_str = \"0\" + os_str\n",
    "    cols[offset] = \"os_\" + os_str"
   ]
  },
  {
   "cell_type": "code",
   "execution_count": 22,
   "metadata": {},
   "outputs": [],
   "source": [
    "dataset = {k: list() for k in sorted(cols.values())}"
   ]
  },
  {
   "cell_type": "code",
   "execution_count": null,
   "metadata": {},
   "outputs": [],
   "source": [
    "for fn in os.listdir(\"raw\"):\n",
    "    fp = os.path.join(\"raw\", fn)\n",
    "    with open(fp, \"r\") as file:\n",
    "        data = json.load(file)\n",
    "        all_offsets = all_offsets.union(set(data[\"offsets\"]))"
   ]
  }
 ],
 "metadata": {
  "kernelspec": {
   "display_name": "plotly_env",
   "language": "python",
   "name": "python3"
  },
  "language_info": {
   "codemirror_mode": {
    "name": "ipython",
    "version": 3
   },
   "file_extension": ".py",
   "mimetype": "text/x-python",
   "name": "python",
   "nbconvert_exporter": "python",
   "pygments_lexer": "ipython3",
   "version": "3.7.9"
  },
  "orig_nbformat": 4
 },
 "nbformat": 4,
 "nbformat_minor": 2
}
